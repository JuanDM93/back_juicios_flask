{
 "metadata": {
  "language_info": {
   "codemirror_mode": {
    "name": "ipython",
    "version": 3
   },
   "file_extension": ".py",
   "mimetype": "text/x-python",
   "name": "python",
   "nbconvert_exporter": "python",
   "pygments_lexer": "ipython3",
   "version": "3.8.5-final"
  },
  "orig_nbformat": 2,
  "kernelspec": {
   "name": "python_defaultSpec_1598195118811",
   "display_name": "Python 3.8.5 64-bit ('env': venv)"
  }
 },
 "nbformat": 4,
 "nbformat_minor": 2,
 "cells": [
  {
   "cell_type": "code",
   "execution_count": null,
   "metadata": {},
   "outputs": [],
   "source": [
    "import bs4\n",
    "import requests\n",
    "from time import sleep"
   ]
  },
  {
   "cell_type": "code",
   "execution_count": null,
   "metadata": {},
   "outputs": [],
   "source": [
    "def scrap_get(url, circuito):\n",
    "    #sleep(1)\n",
    "    html = requests.get(url)\n",
    "    soup = bs4.BeautifulSoup(html.text)\n",
    "\n",
    "    # Organismos\n",
    "    select = soup.find(\n",
    "        'select', {\n",
    "            'name': 'Organismo',\n",
    "        })\n",
    "    options = select.findAll('option')\n",
    "    \n",
    "    if len(options) > 1:\n",
    "        with open(f'organismos.txt', 'a') as result:        \n",
    "            result.write(f\"\\n # ----- {circuito} ------ # \\n\\n\")\n",
    "            for o in options:\n",
    "                option = f\"{o.get('value')}: {o.text} \\n\"\n",
    "                result.write(option)"
   ]
  },
  {
   "cell_type": "code",
   "execution_count": null,
   "metadata": {
    "tags": []
   },
   "outputs": [],
   "source": [
    "# GET\n",
    "for i in range(110):\n",
    "    b_url = f'https://www.dgepj.cjf.gob.mx/internet/expedientes/circuitos.asp?Cir={i}&Exp=1'\n",
    "    scrap_get(b_url, i)"
   ]
  },
  {
   "cell_type": "code",
   "execution_count": null,
   "metadata": {},
   "outputs": [],
   "source": [
    "def scrap_tipo(b_url):\n",
    "    html = requests.get(b_url)\n",
    "    soup = bs4.BeautifulSoup(html.text)\n",
    "    # Organismos\n",
    "    select = soup.find(\n",
    "        'select', {\n",
    "            'name': 'TipoAsunto',\n",
    "        })\n",
    "    options = select.findAll('option')\n",
    "    \n",
    "    if len(options) > 1:\n",
    "        with open(\n",
    "            f'tipos.txt', 'w') as result:\n",
    "            for o in options:\n",
    "                option = f\"{o.get('value')}: {o.text} \\n\"\n",
    "                result.write(option)"
   ]
  },
  {
   "cell_type": "code",
   "execution_count": null,
   "metadata": {},
   "outputs": [],
   "source": [
    "#POST\n",
    "b_url = f'https://www.dgepj.cjf.gob.mx/internet/expedientes/ExpedienteyTipo.asp'\n",
    "\n",
    "scrap_tipo(b_url)"
   ]
  },
  {
   "cell_type": "code",
   "execution_count": null,
   "metadata": {},
   "outputs": [],
   "source": []
  }
 ]
}