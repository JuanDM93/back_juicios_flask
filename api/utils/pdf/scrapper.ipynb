{
 "metadata": {
  "language_info": {
   "codemirror_mode": {
    "name": "ipython",
    "version": 3
   },
   "file_extension": ".py",
   "mimetype": "text/x-python",
   "name": "python",
   "nbconvert_exporter": "python",
   "pygments_lexer": "ipython3",
   "version": "3.8.5-final"
  },
  "orig_nbformat": 2,
  "kernelspec": {
   "name": "python_defaultSpec_1598381585986",
   "display_name": "Python 3.8.5 64-bit ('env': venv)"
  }
 },
 "nbformat": 4,
 "nbformat_minor": 2,
 "cells": [
  {
   "cell_type": "markdown",
   "metadata": {
    "tags": []
   },
   "source": [
    "# LOGIN POST\n",
    "usr = 'JOSELUISGOMEZGOMEZ'\n",
    "pwd = 'josegmailgomez1'\n",
    "\n",
    "b_url = 'https://www.serviciosenlinea.pjf.gob.mx/juicioenlinea/Home/Login'\n",
    "\n",
    "body = {\n",
    "    'UserName': usr,\n",
    "    'UserPassword': pwd,\n",
    "}\n",
    "html = requests.post(b_url, body)\n",
    "\n",
    "soup = bs4.BeautifulSoup(html.text)\n",
    "print(soup)"
   ]
  },
  {
   "cell_type": "code",
   "execution_count": 1,
   "metadata": {},
   "outputs": [],
   "source": [
    "import bs4\n",
    "import requests\n",
    "from time import sleep\n",
    "from datetime import datetime"
   ]
  },
  {
   "cell_type": "code",
   "execution_count": 9,
   "metadata": {},
   "outputs": [],
   "source": [
    "def scrap_circuitos(url, circuito):\n",
    "    html = requests.get(url)\n",
    "    soup = bs4.BeautifulSoup(html.text)\n",
    "    \n",
    "    # Circuito\n",
    "    c_name = soup.find(\n",
    "        'input', {\n",
    "            'name': 'CircuitoName',\n",
    "        })\n",
    "    c_name = c_name['value']    \n",
    "    \n",
    "    c_id = soup.find(\n",
    "        'input', {\n",
    "            'name': 'Circuito',\n",
    "        })\n",
    "    c_id = c_id['value']\n",
    "    \n",
    "    # Organismos\n",
    "    select = soup.find(\n",
    "        'select', {\n",
    "            'name': 'Organismo',\n",
    "        })\n",
    "    options = select.findAll('option')\n",
    "\n",
    "    # Object\n",
    "    results = {\n",
    "        'c_name': c_name,\n",
    "        'c_id': c_id,\n",
    "        'organismos': {}\n",
    "    }\n",
    "    if len(options) > 1:\n",
    "        for o in options:\n",
    "            o_id = o.get('value')\n",
    "            o_txt = o.text\n",
    "\n",
    "            data = {\n",
    "                'org_id': o_id,\n",
    "                'cir_id': c_id,\n",
    "            }\n",
    "            results['organismos'][o_id] = {\n",
    "                o_txt : 'tipos_obj',\n",
    "                #o_txt: scrap_tipo(data),\n",
    "            }\n",
    "\n",
    "        return True, results\n",
    "    return False, results"
   ]
  },
  {
   "cell_type": "code",
   "execution_count": 10,
   "metadata": {
    "tags": []
   },
   "outputs": [],
   "source": [
    "# GET circuitos\n",
    "def get_circuitos():\n",
    "    cirs_ids = [\n",
    "        1, 2, 3, 4, 5, 6, 7, 8, 9, 10,\n",
    "        20, 30, 38, 39, 40, 41, 42, 43,\n",
    "        44, 45, 46, 47, 48, 49, 50, 51,\n",
    "        52, 53, 54, 55, 56, 109\n",
    "    ]\n",
    "    circuitos = {}\n",
    "    #for i in range(1, 1000):\n",
    "    #for i in range(1, 2):\n",
    "    for i in cirs_ids:\n",
    "        b_url = f'https://www.dgepj.cjf.gob.mx/internet/expedientes/circuitos.asp?Cir={i}'\n",
    "        flag, result = scrap_circuitos(b_url, i)\n",
    "        if flag:\n",
    "            circuitos[i] = result\n",
    "    return circuitos"
   ]
  },
  {
   "cell_type": "code",
   "execution_count": 11,
   "metadata": {
    "tags": []
   },
   "outputs": [
    {
     "output_type": "stream",
     "name": "stdout",
     "text": "0:00:07.529126 secs \n\n"
    }
   ],
   "source": [
    "s = datetime.now()\n",
    "circuitos = get_circuitos()\n",
    "\n",
    "print(f'{datetime.now() - s} secs \\n')"
   ]
  },
  {
   "cell_type": "code",
   "execution_count": 15,
   "metadata": {
    "tags": []
   },
   "outputs": [
    {
     "output_type": "stream",
     "name": "stdout",
     "text": "dict_keys([1, 2, 3, 4, 5, 6, 7, 8, 9, 10, 20, 30, 38, 39, 40, 41, 42, 43, 44, 45, 46, 47, 48, 49, 50, 51, 52, 53, 54, 55, 56, 109])\n\n{'Juzgado Primero de Distrito en Materia Administrativa en la Ciudad de México': 'tipos_obj'}\n\ndict_keys(['125', '134', '2424', '1088', '1089'])\n{'Tribunal Unitario del Trigésimo Segundo Circuito': 'tipos_obj'}\n"
    }
   ],
   "source": [
    "print(circuitos.keys())\n",
    "print()\n",
    "print(circuitos[1]['organismos']['10'])\n",
    "print()\n",
    "print(circuitos[109]['organismos'].keys())\n",
    "print(circuitos[109]['organismos']['1088'])"
   ]
  },
  {
   "cell_type": "code",
   "execution_count": null,
   "metadata": {},
   "outputs": [],
   "source": [
    "{\n",
    "    'Juzgado Primero de Distrito en Materia Administrativa en la Ciudad de México': {\n",
    "        '1': 'Amparo indirecto',\n",
    "        '2': 'Causa penal',\n",
    "        '46': 'Concursos Mercantiles',\n",
    "        '71': 'Denuncia por Incumplimiento de la Declaratoria General de Inconstitucionalidad',\n",
    "        '67': 'Ejecución de penas', \n",
    "        '58': 'Extinción de Dominio', \n",
    "        '68': 'Juicio Oral Mercantil', \n",
    "        '18': 'Medidas precautorias', \n",
    "        '19': 'Procedimientos de extradición', \n",
    "        '4': 'Procesos civiles o administrativos'\n",
    "    }\n",
    "}"
   ]
  },
  {
   "cell_type": "code",
   "execution_count": 22,
   "metadata": {},
   "outputs": [],
   "source": [
    "def scrap_tipo(data):\n",
    "    b_url = 'https://www.dgepj.cjf.gob.mx/internet/expedientes/ExpedienteyTipo.asp'\n",
    "    body = {\n",
    "        'Organismo': data['org_id'],\n",
    "        'Buscar': 'Buscar',\n",
    "        'Circuito': data['cir_id'],\n",
    "    }\n",
    "    html = requests.post(b_url, body)\n",
    "    soup = bs4.BeautifulSoup(html.text)\n",
    "    \n",
    "    # Tipos\n",
    "    select = soup.find(\n",
    "        'select', {\n",
    "            'name': 'TipoAsunto',\n",
    "        })\n",
    "    options = select.findAll('option')\n",
    "    \n",
    "    # Object\n",
    "    results = {} \n",
    "    if len(options) > 1:\n",
    "        for o in options:\n",
    "            results[o.get('value')] = o.text\n",
    "\n",
    "        return results"
   ]
  },
  {
   "cell_type": "code",
   "execution_count": 23,
   "metadata": {},
   "outputs": [],
   "source": [
    "#POST tipo\n",
    "data = {\n",
    "    'org_id': 109,\n",
    "    'cir_id': 134,\n",
    "}\n",
    "tipos = scrap_tipo(data)"
   ]
  },
  {
   "cell_type": "code",
   "execution_count": 24,
   "metadata": {
    "tags": []
   },
   "outputs": [
    {
     "output_type": "stream",
     "name": "stdout",
     "text": "dict_keys(['29', '10', '11', '12', '17', '13', '23', '25', '15', '20', '26', '24', '14', '16'])\nAmparo directo\n"
    }
   ],
   "source": [
    "print(tipos.keys())\n",
    "\n",
    "print(tipos['10'])"
   ]
  },
  {
   "cell_type": "code",
   "execution_count": 5,
   "metadata": {
    "tags": []
   },
   "outputs": [],
   "source": [
    "# Acuerdos GET\n",
    "def get_acuerdos(data):\n",
    "    t_ast = data['t_ast']\n",
    "    id_org = data['id_org']\n",
    "    n_exp = data['n_exp']\n",
    "\n",
    "    b_url = 'https://www.dgepj.cjf.gob.mx/siseinternet/reportes/vercaptura.aspx?'\n",
    "    form = f'tipoasunto={t_ast}&organismo={id_org}&expediente={n_exp}&tipoprocedimiento=0'\n",
    "\n",
    "    html = requests.get(b_url + form)\n",
    "    soup = bs4.BeautifulSoup(html.text)\n",
    "\n",
    "    select = soup.find(\n",
    "            'table', {\n",
    "                'id': 'grvAcuerdos',\n",
    "            })\n",
    "    tabla = select.findAll('tr')\n",
    "    titles = tabla[0].findAll('th')\n",
    "\n",
    "    acuerdos = []\n",
    "    for a in tabla[1:]:\n",
    "        ac_data = a.findAll('td')\n",
    "        acuerdo = {}\n",
    "        for v in range(len(titles[:-1])):\n",
    "            acuerdo[titles[v].text] = ac_data[v].text\n",
    "        acuerdos.append(acuerdo)\n",
    "\n",
    "    for ac in acuerdos:\n",
    "        ac['No.'] = ac['No.'].replace('\\n', '')\n",
    "    \n",
    "    return acuerdos"
   ]
  },
  {
   "cell_type": "code",
   "execution_count": 8,
   "metadata": {
    "tags": []
   },
   "outputs": [
    {
     "output_type": "stream",
     "name": "stdout",
     "text": "Acepta competencia y admite    \nNotifíquese a las partes de la siguiente forma:   \n   \nParte   \nTipo de notificación   \n   \nDenunciante   \nLista   \n   \nAutoridad denunciada   \nOficio   \n   \n\n"
    }
   ],
   "source": [
    "data = {\n",
    "    't_ast': 71,\n",
    "    'id_org': 10,\n",
    "    'n_exp': '1/2020',\n",
    "}\n",
    "print(get_acuerdos(data)[0]['Resumen'])"
   ]
  },
  {
   "cell_type": "code",
   "execution_count": null,
   "metadata": {},
   "outputs": [],
   "source": [
    "[\n",
    "    {\n",
    "        'No.': '1',\n",
    "        'Fecha del Auto': '03-01-2020',\n",
    "        'Tipo Cuaderno': 'Denuncia por Incumplimiento de la Declaratoria General de Inconstitucionalidad',\n",
    "        'Fecha de publicación': '06-01-2020',\n",
    "        'Resumen': 'Acepta competencia y admite    \\nNotifíquese a las partes de la siguiente forma:   \\n   \\nParte   \\nTipo de notificación   \\n   \\nDenunciante   \\nLista   \\n   \\nAutoridad denunciada   \\nOficio   \\n   \\n'\n",
    "    },\n",
    "    {\n",
    "        'No.': '2', 'Fecha del Auto': '10-01-2020', 'Tipo Cuaderno': 'Denuncia por Incumplimiento de la Declaratoria General de Inconstitucionalidad', 'Fecha de publicación': '13-01-2020', 'Resumen': 'Autoridades, se les tiene realizando las manifestaciones que a su parte corresponden con relación a la denuncia.   \\nDomicilio y delegados de las autoridades denunciadas. Medios electrónicos  \\n  \\nNotifíquese a las partes de la siguiente forma:  \\n  \\nParte   ...'},\n",
    "    {\n",
    "        'No.': '3', 'Fecha del Auto': '17-01-2020', 'Tipo Cuaderno': 'Denuncia por Incumplimiento de la Declaratoria General de Inconstitucionalidad', 'Fecha de publicación': '20-01-2020', 'Resumen': 'Por lo expuesto y fundado, se resuelve: \\nPrimero. Es improcedente la denuncia por incumplimiento...  \\nSegundo. Es infundada la denuncia por incumplimiento de la declaratoria general de inconstitucionalidad. \\nNotifíquese a las partes de la siguiente forma: ...'},\n",
    "    {\n",
    "        'No.': '4', 'Fecha del Auto': '24-02-2020', 'Tipo Cuaderno': 'Denuncia por Incumplimiento de la Declaratoria General de Inconstitucionalidad', 'Fecha de publicación': '25-02-2020', 'Resumen': 'Juzgado Segundo de Distrito del Centro Auxiliar de la Primera Región, con residencia en la Ciudad de México; hágase de su conocimiento que este órgano jurisdiccional se avocó al conocimiento del asunto. Causa estado la resolución de dieciséis de enero de  ...'\n",
    "    }\n",
    "]\n"
   ]
  }
 ]
}