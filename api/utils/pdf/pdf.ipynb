{
 "metadata": {
  "language_info": {
   "codemirror_mode": {
    "name": "ipython",
    "version": 3
   },
   "file_extension": ".py",
   "mimetype": "text/x-python",
   "name": "python",
   "nbconvert_exporter": "python",
   "pygments_lexer": "ipython3",
   "version": "3.8.5-final"
  },
  "orig_nbformat": 2,
  "kernelspec": {
   "name": "python_defaultSpec_1597804341162",
   "display_name": "Python 3.8.5 64-bit ('env': venv)"
  }
 },
 "nbformat": 4,
 "nbformat_minor": 2,
 "cells": [
  {
   "cell_type": "code",
   "execution_count": 2,
   "metadata": {},
   "outputs": [],
   "source": [
    "from tika import parser   "
   ]
  },
  {
   "cell_type": "code",
   "execution_count": null,
   "metadata": {},
   "outputs": [],
   "source": [
    "# opening pdf file \n",
    "name = \"sample.pdf\"\n",
    "parsed_pdf = parser.from_file() \n",
    "  \n",
    "# saving content of pdf \n",
    "# you can also bring text only, by parsed_pdf['text']  \n",
    "# parsed_pdf['content'] returns string  \n",
    "data = parsed_pdf['content']  \n",
    "  \n",
    "# <class 'str'> \n",
    "print(type(data))"
   ]
  },
  {
   "cell_type": "code",
   "execution_count": null,
   "metadata": {},
   "outputs": [],
   "source": [
    "data"
   ]
  },
  {
   "cell_type": "code",
   "execution_count": null,
   "metadata": {},
   "outputs": [],
   "source": [
    "# Printing of content  \n",
    "print(data) "
   ]
  },
  {
   "cell_type": "code",
   "execution_count": null,
   "metadata": {},
   "outputs": [],
   "source": [
    "# ['metadata'] attribute returns  \n",
    "# key-value pairs of meta-data  \n",
    "print(parsed_pdf['metadata'])  \n",
    "  \n",
    "# <class 'dict'> \n",
    "print(type(parsed_pdf['metadata']))\n",
    "\n",
    "# Returns keys applicable for given pdf. \n",
    "print(parsed_pdf.keys()) \n",
    "\n",
    "# You can also know the  \n",
    "# status returned from tika  \n",
    "# server, 200 for success \n",
    "print(parsed_pdf['status'],type(parsed_pdf['status'] ))"
   ]
  },
  {
   "cell_type": "code",
   "execution_count": null,
   "metadata": {},
   "outputs": [],
   "source": [
    "## extract_pdf original\n",
    "import requests\n",
    "from pathlib import Path"
   ]
  },
  {
   "cell_type": "code",
   "execution_count": null,
   "metadata": {},
   "outputs": [],
   "source": [
    "url = 'https://www.poderjudicialcdmx.gob.mx/wp-content/PHPs/boletin/boletin_repositorio/140220201.pdf'\n",
    "response = requests.get(url)\n",
    "\n",
    "filename = Path('metadata.pdf')\n",
    "filename.write_bytes(response.content)\n",
    "raw = parser.from_file('metadata.pdf')\n",
    "text = raw['content']"
   ]
  },
  {
   "cell_type": "code",
   "execution_count": null,
   "metadata": {},
   "outputs": [],
   "source": [
    "text.find(\"PRIMERA SALA FAMILIAR\")"
   ]
  },
  {
   "cell_type": "code",
   "execution_count": null,
   "metadata": {},
   "outputs": [],
   "source": [
    "text.find(\"SEGUNDA SALA FAMILIAR\")"
   ]
  },
  {
   "cell_type": "code",
   "execution_count": null,
   "metadata": {},
   "outputs": [],
   "source": [
    "x = text.find(\"PRIMERA SALA FAMILIAR\")\n",
    "y = text.find(\"SEGUNDA SALA FAMILIAR\")\n",
    "\n",
    "primera_sala_civil = text[x:y]\n",
    "\n",
    "demandas = primera_sala_civil.split(\"\\n\\n\")\n",
    "\n",
    "for demanda in demandas:\n",
    "    print(demanda)\n",
    "    print(\"--------------------------------------\")\n",
    "    "
   ]
  }
 ]
}