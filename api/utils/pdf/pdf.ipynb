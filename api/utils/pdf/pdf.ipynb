{
 "metadata": {
  "language_info": {
   "codemirror_mode": {
    "name": "ipython",
    "version": 3
   },
   "file_extension": ".py",
   "mimetype": "text/x-python",
   "name": "python",
   "nbconvert_exporter": "python",
   "pygments_lexer": "ipython3",
   "version": "3.8.5-final"
  },
  "orig_nbformat": 2,
  "kernelspec": {
   "name": "python_defaultSpec_1598053603558",
   "display_name": "Python 3.8.5 64-bit ('env': venv)"
  }
 },
 "nbformat": 4,
 "nbformat_minor": 2,
 "cells": [
  {
   "cell_type": "code",
   "execution_count": 5,
   "metadata": {},
   "outputs": [],
   "source": [
    "from tika import parser"
   ]
  },
  {
   "cell_type": "code",
   "execution_count": null,
   "metadata": {
    "tags": []
   },
   "outputs": [],
   "source": [
    "# opening pdf file\n",
    "name = \"sample.pdf\"\n",
    "parsed_pdf = parser.from_file(name)\n",
    "\n",
    "# saving content of pdf\n",
    "data = parsed_pdf['content']"
   ]
  },
  {
   "cell_type": "code",
   "execution_count": null,
   "metadata": {
    "tags": []
   },
   "outputs": [],
   "source": [
    "# <class 'str'>\n",
    "print(type(data))\n",
    "print(len(data))"
   ]
  },
  {
   "cell_type": "code",
   "execution_count": null,
   "metadata": {
    "tags": []
   },
   "outputs": [],
   "source": [
    "# Printing of content\n",
    "print(data[47:1000])"
   ]
  },
  {
   "cell_type": "code",
   "execution_count": null,
   "metadata": {},
   "outputs": [],
   "source": [
    "# content\n",
    "data[47:1000]"
   ]
  },
  {
   "cell_type": "code",
   "execution_count": null,
   "metadata": {
    "tags": [
     "outputPrepend"
    ]
   },
   "outputs": [],
   "source": [
    "print(data)"
   ]
  },
  {
   "cell_type": "code",
   "execution_count": null,
   "metadata": {
    "tags": []
   },
   "outputs": [],
   "source": [
    "#print(data)\n",
    "print(data.count('SOLO CONSULTA'))\n",
    "\n",
    "n_data = data.replace('SOLO CONSULTA', '')\n",
    "print(n_data.count('SOLO CONSULTA'))\n",
    "\n",
    "print(data.count('SOLO CONSULTA'))"
   ]
  },
  {
   "cell_type": "code",
   "execution_count": null,
   "metadata": {
    "tags": [
     "outputPrepend"
    ]
   },
   "outputs": [],
   "source": [
    "print(n_data)"
   ]
  },
  {
   "cell_type": "code",
   "execution_count": 6,
   "metadata": {},
   "outputs": [],
   "source": [
    "## extract_pdf original\n",
    "import requests\n",
    "from pathlib import Path\n",
    "\n",
    "url = 'https://www.poderjudicialcdmx.gob.mx/wp-content/PHPs/boletin/boletin_repositorio/140220201.pdf'\n",
    "response = requests.get(url)\n",
    "\n",
    "filename = Path('metadata.pdf')\n",
    "filename.write_bytes(response.content)\n",
    "raw = parser.from_file('metadata.pdf')\n",
    "text = raw['content']"
   ]
  },
  {
   "cell_type": "code",
   "execution_count": null,
   "metadata": {},
   "outputs": [],
   "source": [
    "text.find(\"PRIMERA SALA FAMILIAR\")"
   ]
  },
  {
   "cell_type": "code",
   "execution_count": null,
   "metadata": {},
   "outputs": [],
   "source": [
    "n_data.find(\"SEGUNDA SALA FAMILIAR\")"
   ]
  },
  {
   "cell_type": "code",
   "execution_count": null,
   "metadata": {
    "tags": []
   },
   "outputs": [],
   "source": [
    "txt = \"welcome#to#the#jungle\"\n",
    "\n",
    "x = txt.split('#')\n",
    "\n",
    "print(x)"
   ]
  },
  {
   "cell_type": "code",
   "execution_count": null,
   "metadata": {
    "tags": []
   },
   "outputs": [],
   "source": [
    "myTuple = (\"John\", \"Peter\", \"Vicky\")\n",
    "\n",
    "x = \"#\".join(myTuple)\n",
    "\n",
    "print(x)"
   ]
  },
  {
   "cell_type": "code",
   "execution_count": 3,
   "metadata": {
    "tags": []
   },
   "outputs": [
    {
     "output_type": "stream",
     "name": "stdout",
     "text": "20200821\n20200820\n20200819\n20200818\n20200817\n20200816\n20200815\n20200814\n20200813\n20200812\n20200811\n20200810\n20200809\n20200808\n20200807\n20200806\n20200805\n20200804\n20200803\n20200802\n"
    }
   ],
   "source": [
    "from datetime import date, datetime, timedelta\n",
    "\n",
    "\n",
    "def fetch_history():\n",
    "    init_date = date(2020, 8, 1)\n",
    "    now = datetime.now().date()\n",
    "\n",
    "    while now != init_date:\n",
    "        fecha = str(now).replace('-', '')\n",
    "        fetch_date(fecha)\n",
    "        now = now - timedelta(days=1)\n"
   ]
  },
  {
   "cell_type": "code",
   "execution_count": 10,
   "metadata": {},
   "outputs": [],
   "source": [
    "\"\"\"\n",
    "data = {\n",
    "    'juz': 'PRIMERO DE LO CIVIL',\n",
    "    'acuerdos': ['1101/2010'],\n",
    "}\n",
    "fun(data)\n",
    "\"\"\"\n",
    "def extract_data(pdf:str,):\n",
    "    x = pdf.find(\"PRIMERO DE LO CIVIL\")\n",
    "    juzgado = pdf[x:]\n",
    "\n",
    "    acuerdo = '1101/2010'\n",
    "    acuerdo = '923/2019'\n",
    "    acuerdo = '710/2017'\n",
    "    acuerdo = ''            # null\n",
    "    acuerdo = '2024/1994'   # sentencia\n",
    "\n",
    "    if juzgado.find(acuerdo) == -1:\n",
    "        return None    \n",
    "    y = juzgado.find(acuerdo)\n",
    "\n",
    "    ac_separa = '\\n\\n'\n",
    "    x = juzgado.find(ac_separa)\n",
    "    \n",
    "    acuerdos = juzgado[x:(y+len(acuerdo))]\n",
    "\n",
    "    result = acuerdos.split(ac_separa)[-1]\n",
    "    return result"
   ]
  },
  {
   "cell_type": "code",
   "execution_count": 11,
   "metadata": {
    "tags": []
   },
   "outputs": [
    {
     "output_type": "execute_result",
     "data": {
      "text/plain": "'Servicios Efectivos de Recuperación, S. de R. L. de C.V. vs. Alberto \\nde la Cruz Alanís González Ejecutivo Mercantil Sent. Interl. 1 \\nSent. Interlocutoria. Núm. Exp. 2024/1994'"
     },
     "metadata": {},
     "execution_count": 11
    }
   ],
   "source": [
    "extract_data(text)[:1000]"
   ]
  },
  {
   "cell_type": "code",
   "execution_count": 15,
   "metadata": {
    "tags": []
   },
   "outputs": [
    {
     "output_type": "error",
     "ename": "AttributeError",
     "evalue": "'str' object has no attribute '__reversed__'",
     "traceback": [
      "\u001b[0;31m---------------------------------------------------------------------------\u001b[0m",
      "\u001b[0;31mAttributeError\u001b[0m                            Traceback (most recent call last)",
      "\u001b[0;32m<ipython-input-15-07e2fb287bf0>\u001b[0m in \u001b[0;36m<module>\u001b[0;34m\u001b[0m\n\u001b[1;32m      1\u001b[0m \u001b[0mnow\u001b[0m \u001b[0;34m=\u001b[0m \u001b[0;34m(\u001b[0m\u001b[0mdatetime\u001b[0m\u001b[0;34m.\u001b[0m\u001b[0mnow\u001b[0m\u001b[0;34m(\u001b[0m\u001b[0;34m)\u001b[0m\u001b[0;34m.\u001b[0m\u001b[0mdate\u001b[0m\u001b[0;34m(\u001b[0m\u001b[0;34m)\u001b[0m\u001b[0;34m)\u001b[0m\u001b[0;34m\u001b[0m\u001b[0;34m\u001b[0m\u001b[0m\n\u001b[0;32m----> 2\u001b[0;31m \u001b[0mstr\u001b[0m\u001b[0;34m(\u001b[0m\u001b[0mnow\u001b[0m\u001b[0;34m)\u001b[0m\u001b[0;34m.\u001b[0m\u001b[0mreplace\u001b[0m\u001b[0;34m(\u001b[0m\u001b[0;34m'-'\u001b[0m\u001b[0;34m,\u001b[0m \u001b[0;34m''\u001b[0m\u001b[0;34m)\u001b[0m\u001b[0;34m.\u001b[0m\u001b[0m__reversed__\u001b[0m\u001b[0;34m\u001b[0m\u001b[0;34m\u001b[0m\u001b[0m\n\u001b[0m",
      "\u001b[0;31mAttributeError\u001b[0m: 'str' object has no attribute '__reversed__'"
     ]
    }
   ],
   "source": [
    "\n",
    "now = (datetime.now().date())\n",
    "str(now).replace('-', '')"
   ]
  },
  {
   "cell_type": "code",
   "execution_count": 16,
   "metadata": {},
   "outputs": [],
   "source": [
    "data = [{\n",
    "    'juz': 'PRIMERO DE LO CIVIL',\n",
    "    'acuerdos': ['1101/2010'],\n",
    "}]"
   ]
  },
  {
   "cell_type": "code",
   "execution_count": 20,
   "metadata": {},
   "outputs": [
    {
     "output_type": "execute_result",
     "data": {
      "text/plain": "'PRIMERO DE LO CIVIL'"
     },
     "metadata": {},
     "execution_count": 20
    }
   ],
   "source": [
    "data[0]['juz']"
   ]
  },
  {
   "cell_type": "code",
   "execution_count": 38,
   "metadata": {
    "tags": []
   },
   "outputs": [
    {
     "output_type": "execute_result",
     "data": {
      "text/plain": "'21082020'"
     },
     "metadata": {},
     "execution_count": 38
    }
   ],
   "source": [
    "from datetime import date, datetime, timedelta \n",
    "\n",
    "now = str(datetime.now().date())\n",
    "now = now.split('-')\n",
    "str().join(now[::-1])"
   ]
  },
  {
   "cell_type": "code",
   "execution_count": 39,
   "metadata": {},
   "outputs": [
    {
     "output_type": "execute_result",
     "data": {
      "text/plain": "datetime.datetime(2020, 8, 21, 19, 3, 4, 428320)"
     },
     "metadata": {},
     "execution_count": 39
    }
   ],
   "source": [
    "datetime.now()"
   ]
  },
  {
   "cell_type": "code",
   "execution_count": 43,
   "metadata": {
    "tags": []
   },
   "outputs": [
    {
     "output_type": "stream",
     "name": "stdout",
     "text": "21082020\n"
    }
   ],
   "source": [
    "date = datetime.now().date()\n",
    "now = str(date).split('-')\n",
    "now = str().join(now[::-1])\n",
    "print(now)"
   ]
  },
  {
   "cell_type": "code",
   "execution_count": null,
   "metadata": {},
   "outputs": [],
   "source": []
  }
 ]
}